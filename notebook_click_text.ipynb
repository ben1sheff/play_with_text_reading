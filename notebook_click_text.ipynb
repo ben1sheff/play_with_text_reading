{
 "cells": [
  {
   "cell_type": "markdown",
   "metadata": {},
   "source": [
    "# Test notebook for making scripts to click on text"
   ]
  },
  {
   "cell_type": "markdown",
   "metadata": {},
   "source": [
    "### imports"
   ]
  },
  {
   "cell_type": "code",
   "execution_count": null,
   "metadata": {},
   "outputs": [],
   "source": [
    "import pyautogui as pag\n",
    "from easyocr import Reader as ocr_reader\n",
    "import numpy as np"
   ]
  },
  {
   "cell_type": "code",
   "execution_count": null,
   "metadata": {},
   "outputs": [],
   "source": [
    "screenshot = pag.screenshot()\n",
    "screenshot"
   ]
  },
  {
   "cell_type": "code",
   "execution_count": null,
   "metadata": {},
   "outputs": [],
   "source": [
    "reader = ocr_reader([\"en\"], gpu=False)\n",
    "test = reader.readtext(np.asarray(screenshot.convert(\"RGB\")))\n",
    "\n",
    "def text_coord(text, ocr_results, lower=True):\n",
    "    ''' dig through the ocr results for particular text, return the center, height, and width '''\n",
    "    if lower:\n",
    "        text = text.lower()\n",
    "    for item in ocr_results:\n",
    "        box_text = item[1]\n",
    "        if lower:\n",
    "            box_text = box_text.lower()\n",
    "        if text in box_text:  # may want to do fuzzy matching\n",
    "            coords = item[0]\n",
    "            width = coords[2][0] - coords[0][0]\n",
    "            height = coords[2][1] - coords[0][1]\n",
    "            center = [coords[0][0] + width // 2, coords[0][1] + height // 2]\n",
    "            return center, height, width\n",
    "        \n",
    "\n",
    "center, height, width = text_coord(\"Recycle bin\", test)\n",
    "\n",
    "pag.click(*center, 2)"
   ]
  },
  {
   "cell_type": "code",
   "execution_count": 38,
   "metadata": {},
   "outputs": [],
   "source": [
    "just_bin = np.asarray(pag.screenshot().convert(\"RGB\"))\n",
    "just_bin = just_bin[center[1] - height // 2 - 6: center[1] + height // 2 + 6,\n",
    "                    center[0] - width // 2 - 6: center[0] + width // 2 + 6]\n",
    "\n",
    "test2 = reader.readtext(just_bin)"
   ]
  },
  {
   "cell_type": "code",
   "execution_count": null,
   "metadata": {},
   "outputs": [],
   "source": [
    "from no_log_out import NoLogOut\n",
    "\n",
    "activity = NoLogOut(\"Recycle bin\")\n",
    "activity.run(3, 1)"
   ]
  },
  {
   "cell_type": "code",
   "execution_count": null,
   "metadata": {},
   "outputs": [],
   "source": []
  }
 ],
 "metadata": {
  "kernelspec": {
   "display_name": "ehrgui",
   "language": "python",
   "name": "python3"
  },
  "language_info": {
   "codemirror_mode": {
    "name": "ipython",
    "version": 3
   },
   "file_extension": ".py",
   "mimetype": "text/x-python",
   "name": "python",
   "nbconvert_exporter": "python",
   "pygments_lexer": "ipython3",
   "version": "3.11.0"
  }
 },
 "nbformat": 4,
 "nbformat_minor": 2
}
